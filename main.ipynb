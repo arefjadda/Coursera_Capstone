{
 "metadata": {
  "language_info": {
   "codemirror_mode": {
    "name": "ipython",
    "version": 3
   },
   "file_extension": ".py",
   "mimetype": "text/x-python",
   "name": "python",
   "nbconvert_exporter": "python",
   "pygments_lexer": "ipython3",
   "version": 3
  },
  "orig_nbformat": 2
 },
 "nbformat": 4,
 "nbformat_minor": 2,
 "cells": [
  {
   "source": [
    "# Coursera Capstone  \n",
    "This notebook will be used for the capstone project."
   ],
   "cell_type": "markdown",
   "metadata": {}
  },
  {
   "cell_type": "code",
   "execution_count": null,
   "metadata": {},
   "outputs": [
    {
     "output_type": "error",
     "ename": "Error",
     "evalue": "Jupyter cannot be started. Error attempting to locate jupyter: Data Science libraries jupyter and notebook are not installed in interpreter Python 3.7.9 64-bit ('myenv': conda).",
     "traceback": [
      "Error: Jupyter cannot be started. Error attempting to locate jupyter: Data Science libraries jupyter and notebook are not installed in interpreter Python 3.7.9 64-bit ('myenv': conda).",
      "at w.startServer (/home/aref/.vscode/extensions/ms-toolsai.jupyter-2020.12.414227025/out/client/extension.js:49:379970)",
      "at async w.createServer (/home/aref/.vscode/extensions/ms-toolsai.jupyter-2020.12.414227025/out/client/extension.js:49:379268)",
      "at async connect (/home/aref/.vscode/extensions/ms-toolsai.jupyter-2020.12.414227025/out/client/extension.js:49:504021)",
      "at async f.ensureConnectionAndNotebookImpl (/home/aref/.vscode/extensions/ms-toolsai.jupyter-2020.12.414227025/out/client/extension.js:32:590192)",
      "at async f.ensureConnectionAndNotebook (/home/aref/.vscode/extensions/ms-toolsai.jupyter-2020.12.414227025/out/client/extension.js:32:588656)",
      "at async f.clearResult (/home/aref/.vscode/extensions/ms-toolsai.jupyter-2020.12.414227025/out/client/extension.js:32:584410)",
      "at async f.reexecuteCell (/home/aref/.vscode/extensions/ms-toolsai.jupyter-2020.12.414227025/out/client/extension.js:9:171119)",
      "at async f.reexecuteCells (/home/aref/.vscode/extensions/ms-toolsai.jupyter-2020.12.414227025/out/client/extension.js:9:167423)"
     ]
    }
   ],
   "source": [
    "#importing basic libraries\n",
    "import pandas as pd\n",
    "import numpy as np"
   ]
  },
  {
   "cell_type": "code",
   "execution_count": null,
   "metadata": {},
   "outputs": [],
   "source": []
  }
 ]
}